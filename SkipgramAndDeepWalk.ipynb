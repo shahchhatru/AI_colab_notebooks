{
  "nbformat": 4,
  "nbformat_minor": 0,
  "metadata": {
    "colab": {
      "provenance": [],
      "authorship_tag": "ABX9TyMQq53AxcY0/mYTCDh8lXp8",
      "include_colab_link": true
    },
    "kernelspec": {
      "name": "python3",
      "display_name": "Python 3"
    },
    "language_info": {
      "name": "python"
    }
  },
  "cells": [
    {
      "cell_type": "markdown",
      "metadata": {
        "id": "view-in-github",
        "colab_type": "text"
      },
      "source": [
        "<a href=\"https://colab.research.google.com/github/shahchhatru/AI_colab_notebooks/blob/main/SkipgramAndDeepWalk.ipynb\" target=\"_parent\"><img src=\"https://colab.research.google.com/assets/colab-badge.svg\" alt=\"Open In Colab\"/></a>"
      ]
    },
    {
      "cell_type": "code",
      "execution_count": 1,
      "metadata": {
        "id": "PqRXXP1RmpOW"
      },
      "outputs": [],
      "source": [
        "## this is an practice implementation of skip gram algorithmn\n"
      ]
    },
    {
      "cell_type": "code",
      "source": [
        "import numpy as np"
      ],
      "metadata": {
        "id": "LMyM9Tyhpyxj"
      },
      "execution_count": 2,
      "outputs": []
    },
    {
      "cell_type": "code",
      "source": [
        "CONTEXT_SIZE=2\n"
      ],
      "metadata": {
        "id": "-opRLIvpp2dP"
      },
      "execution_count": 3,
      "outputs": []
    },
    {
      "cell_type": "code",
      "source": [
        "text=\"\"\"\n",
        "Nature, a tranquil canvas, paints landscapes with vibrant hues, whispering tales\n",
        "through rustling leaves and dancing streams. Life blooms in meadows, and mountains\n",
        "echo with ancient stories. Sunsets bathe the world in golden warmth, while moonlit nights weave dreams.\n",
        "Breezes carry fragrances, and rivers sing timeless melodies. In this harmonious symphony, every creature finds its rhythm,\n",
        "connecting to the primal heartbeat of Earth. Nature, a sanctuary of simplicity, invites us to pause,\n",
        "breathe, and embrace the beauty woven into the fabric of existence.\n",
        "\"\"\".split()"
      ],
      "metadata": {
        "id": "3sOFBr1dp6n6"
      },
      "execution_count": 5,
      "outputs": []
    },
    {
      "cell_type": "code",
      "source": [
        "text"
      ],
      "metadata": {
        "colab": {
          "base_uri": "https://localhost:8080/"
        },
        "id": "TbliTNaNqjx4",
        "outputId": "dbe0c0e0-2101-4dbc-995b-3d97352f215b"
      },
      "execution_count": 6,
      "outputs": [
        {
          "output_type": "execute_result",
          "data": {
            "text/plain": [
              "['Nature,',\n",
              " 'a',\n",
              " 'tranquil',\n",
              " 'canvas,',\n",
              " 'paints',\n",
              " 'landscapes',\n",
              " 'with',\n",
              " 'vibrant',\n",
              " 'hues,',\n",
              " 'whispering',\n",
              " 'tales',\n",
              " 'through',\n",
              " 'rustling',\n",
              " 'leaves',\n",
              " 'and',\n",
              " 'dancing',\n",
              " 'streams.',\n",
              " 'Life',\n",
              " 'blooms',\n",
              " 'in',\n",
              " 'meadows,',\n",
              " 'and',\n",
              " 'mountains',\n",
              " 'echo',\n",
              " 'with',\n",
              " 'ancient',\n",
              " 'stories.',\n",
              " 'Sunsets',\n",
              " 'bathe',\n",
              " 'the',\n",
              " 'world',\n",
              " 'in',\n",
              " 'golden',\n",
              " 'warmth,',\n",
              " 'while',\n",
              " 'moonlit',\n",
              " 'nights',\n",
              " 'weave',\n",
              " 'dreams.',\n",
              " 'Breezes',\n",
              " 'carry',\n",
              " 'fragrances,',\n",
              " 'and',\n",
              " 'rivers',\n",
              " 'sing',\n",
              " 'timeless',\n",
              " 'melodies.',\n",
              " 'In',\n",
              " 'this',\n",
              " 'harmonious',\n",
              " 'symphony,',\n",
              " 'every',\n",
              " 'creature',\n",
              " 'finds',\n",
              " 'its',\n",
              " 'rhythm,',\n",
              " 'connecting',\n",
              " 'to',\n",
              " 'the',\n",
              " 'primal',\n",
              " 'heartbeat',\n",
              " 'of',\n",
              " 'Earth.',\n",
              " 'Nature,',\n",
              " 'a',\n",
              " 'sanctuary',\n",
              " 'of',\n",
              " 'simplicity,',\n",
              " 'invites',\n",
              " 'us',\n",
              " 'to',\n",
              " 'pause,',\n",
              " 'breathe,',\n",
              " 'and',\n",
              " 'embrace',\n",
              " 'the',\n",
              " 'beauty',\n",
              " 'woven',\n",
              " 'into',\n",
              " 'the',\n",
              " 'fabric',\n",
              " 'of',\n",
              " 'existence.']"
            ]
          },
          "metadata": {},
          "execution_count": 6
        }
      ]
    },
    {
      "cell_type": "code",
      "source": [
        "skipgrams =[]\n",
        "for i in range(CONTEXT_SIZE,len(text)-CONTEXT_SIZE):\n",
        "  array=[text[j] for j in np.arange(i-CONTEXT_SIZE,i+CONTEXT_SIZE+1) if j!=i]\n",
        "  skipgrams.append((text[i],array))"
      ],
      "metadata": {
        "id": "-9wlGng2qwjK"
      },
      "execution_count": 7,
      "outputs": []
    },
    {
      "cell_type": "code",
      "source": [
        "skipgrams"
      ],
      "metadata": {
        "colab": {
          "base_uri": "https://localhost:8080/"
        },
        "id": "XG_i7lU5r9EU",
        "outputId": "f7cf4d31-3aba-47e8-817d-f6e2b431251c"
      },
      "execution_count": 8,
      "outputs": [
        {
          "output_type": "execute_result",
          "data": {
            "text/plain": [
              "[('tranquil', ['Nature,', 'a', 'canvas,', 'paints']),\n",
              " ('canvas,', ['a', 'tranquil', 'paints', 'landscapes']),\n",
              " ('paints', ['tranquil', 'canvas,', 'landscapes', 'with']),\n",
              " ('landscapes', ['canvas,', 'paints', 'with', 'vibrant']),\n",
              " ('with', ['paints', 'landscapes', 'vibrant', 'hues,']),\n",
              " ('vibrant', ['landscapes', 'with', 'hues,', 'whispering']),\n",
              " ('hues,', ['with', 'vibrant', 'whispering', 'tales']),\n",
              " ('whispering', ['vibrant', 'hues,', 'tales', 'through']),\n",
              " ('tales', ['hues,', 'whispering', 'through', 'rustling']),\n",
              " ('through', ['whispering', 'tales', 'rustling', 'leaves']),\n",
              " ('rustling', ['tales', 'through', 'leaves', 'and']),\n",
              " ('leaves', ['through', 'rustling', 'and', 'dancing']),\n",
              " ('and', ['rustling', 'leaves', 'dancing', 'streams.']),\n",
              " ('dancing', ['leaves', 'and', 'streams.', 'Life']),\n",
              " ('streams.', ['and', 'dancing', 'Life', 'blooms']),\n",
              " ('Life', ['dancing', 'streams.', 'blooms', 'in']),\n",
              " ('blooms', ['streams.', 'Life', 'in', 'meadows,']),\n",
              " ('in', ['Life', 'blooms', 'meadows,', 'and']),\n",
              " ('meadows,', ['blooms', 'in', 'and', 'mountains']),\n",
              " ('and', ['in', 'meadows,', 'mountains', 'echo']),\n",
              " ('mountains', ['meadows,', 'and', 'echo', 'with']),\n",
              " ('echo', ['and', 'mountains', 'with', 'ancient']),\n",
              " ('with', ['mountains', 'echo', 'ancient', 'stories.']),\n",
              " ('ancient', ['echo', 'with', 'stories.', 'Sunsets']),\n",
              " ('stories.', ['with', 'ancient', 'Sunsets', 'bathe']),\n",
              " ('Sunsets', ['ancient', 'stories.', 'bathe', 'the']),\n",
              " ('bathe', ['stories.', 'Sunsets', 'the', 'world']),\n",
              " ('the', ['Sunsets', 'bathe', 'world', 'in']),\n",
              " ('world', ['bathe', 'the', 'in', 'golden']),\n",
              " ('in', ['the', 'world', 'golden', 'warmth,']),\n",
              " ('golden', ['world', 'in', 'warmth,', 'while']),\n",
              " ('warmth,', ['in', 'golden', 'while', 'moonlit']),\n",
              " ('while', ['golden', 'warmth,', 'moonlit', 'nights']),\n",
              " ('moonlit', ['warmth,', 'while', 'nights', 'weave']),\n",
              " ('nights', ['while', 'moonlit', 'weave', 'dreams.']),\n",
              " ('weave', ['moonlit', 'nights', 'dreams.', 'Breezes']),\n",
              " ('dreams.', ['nights', 'weave', 'Breezes', 'carry']),\n",
              " ('Breezes', ['weave', 'dreams.', 'carry', 'fragrances,']),\n",
              " ('carry', ['dreams.', 'Breezes', 'fragrances,', 'and']),\n",
              " ('fragrances,', ['Breezes', 'carry', 'and', 'rivers']),\n",
              " ('and', ['carry', 'fragrances,', 'rivers', 'sing']),\n",
              " ('rivers', ['fragrances,', 'and', 'sing', 'timeless']),\n",
              " ('sing', ['and', 'rivers', 'timeless', 'melodies.']),\n",
              " ('timeless', ['rivers', 'sing', 'melodies.', 'In']),\n",
              " ('melodies.', ['sing', 'timeless', 'In', 'this']),\n",
              " ('In', ['timeless', 'melodies.', 'this', 'harmonious']),\n",
              " ('this', ['melodies.', 'In', 'harmonious', 'symphony,']),\n",
              " ('harmonious', ['In', 'this', 'symphony,', 'every']),\n",
              " ('symphony,', ['this', 'harmonious', 'every', 'creature']),\n",
              " ('every', ['harmonious', 'symphony,', 'creature', 'finds']),\n",
              " ('creature', ['symphony,', 'every', 'finds', 'its']),\n",
              " ('finds', ['every', 'creature', 'its', 'rhythm,']),\n",
              " ('its', ['creature', 'finds', 'rhythm,', 'connecting']),\n",
              " ('rhythm,', ['finds', 'its', 'connecting', 'to']),\n",
              " ('connecting', ['its', 'rhythm,', 'to', 'the']),\n",
              " ('to', ['rhythm,', 'connecting', 'the', 'primal']),\n",
              " ('the', ['connecting', 'to', 'primal', 'heartbeat']),\n",
              " ('primal', ['to', 'the', 'heartbeat', 'of']),\n",
              " ('heartbeat', ['the', 'primal', 'of', 'Earth.']),\n",
              " ('of', ['primal', 'heartbeat', 'Earth.', 'Nature,']),\n",
              " ('Earth.', ['heartbeat', 'of', 'Nature,', 'a']),\n",
              " ('Nature,', ['of', 'Earth.', 'a', 'sanctuary']),\n",
              " ('a', ['Earth.', 'Nature,', 'sanctuary', 'of']),\n",
              " ('sanctuary', ['Nature,', 'a', 'of', 'simplicity,']),\n",
              " ('of', ['a', 'sanctuary', 'simplicity,', 'invites']),\n",
              " ('simplicity,', ['sanctuary', 'of', 'invites', 'us']),\n",
              " ('invites', ['of', 'simplicity,', 'us', 'to']),\n",
              " ('us', ['simplicity,', 'invites', 'to', 'pause,']),\n",
              " ('to', ['invites', 'us', 'pause,', 'breathe,']),\n",
              " ('pause,', ['us', 'to', 'breathe,', 'and']),\n",
              " ('breathe,', ['to', 'pause,', 'and', 'embrace']),\n",
              " ('and', ['pause,', 'breathe,', 'embrace', 'the']),\n",
              " ('embrace', ['breathe,', 'and', 'the', 'beauty']),\n",
              " ('the', ['and', 'embrace', 'beauty', 'woven']),\n",
              " ('beauty', ['embrace', 'the', 'woven', 'into']),\n",
              " ('woven', ['the', 'beauty', 'into', 'the']),\n",
              " ('into', ['beauty', 'woven', 'the', 'fabric']),\n",
              " ('the', ['woven', 'into', 'fabric', 'of']),\n",
              " ('fabric', ['into', 'the', 'of', 'existence.'])]"
            ]
          },
          "metadata": {},
          "execution_count": 8
        }
      ]
    },
    {
      "cell_type": "code",
      "source": [
        "print(skipgrams[0:2])"
      ],
      "metadata": {
        "colab": {
          "base_uri": "https://localhost:8080/"
        },
        "id": "--uCt8wDsJAm",
        "outputId": "8150b819-16a6-4905-eaaf-f99cd2b7bf1d"
      },
      "execution_count": 9,
      "outputs": [
        {
          "output_type": "stream",
          "name": "stdout",
          "text": [
            "[('tranquil', ['Nature,', 'a', 'canvas,', 'paints']), ('canvas,', ['a', 'tranquil', 'paints', 'landscapes'])]\n"
          ]
        }
      ]
    },
    {
      "cell_type": "code",
      "source": [
        "##let's see the vocabulary\n",
        "vocab=set(text)\n",
        "VOCAB_SIZE=len(vocab)\n",
        "print(f\"Length of vocabulary is={VOCAB_SIZE}\")"
      ],
      "metadata": {
        "colab": {
          "base_uri": "https://localhost:8080/"
        },
        "id": "DfNHyCscsy7c",
        "outputId": "c97a2648-02e0-4420-f5ff-8c610783bad0"
      },
      "execution_count": 11,
      "outputs": [
        {
          "output_type": "stream",
          "name": "stdout",
          "text": [
            "Length of vocabulary is=70\n"
          ]
        }
      ]
    },
    {
      "cell_type": "markdown",
      "source": [
        "Now that we have our vocabulary there is one more parameter that we need to define N , the dimensionality of the word vectors . Typically this value is set between 100 to 1000. But because of our small datasets we will set it to 10"
      ],
      "metadata": {
        "id": "HbWQ-sL2tbm3"
      }
    },
    {
      "cell_type": "markdown",
      "source": [
        "### Skip gram model\n",
        "#### It is composed of only two layers\n",
        "\n",
        "\n",
        "\n",
        "*   A projection layer with Weight matrix *W<sub>embd</sub>* : It takes one hot encoded vector as input and returns the corresponding N-dim word embeddings. It acts as a simple lookup table that stores embedding of predefined dimensionality.\n",
        "\n",
        "*   A fully connected layer with Weight matrix *W<sub>output</sub>* : It takes the word embedding as input and Outputs |V| dim logits. A softmax function is applied to these predictions to turn into probabilities.\n",
        "\n"
      ],
      "metadata": {
        "id": "rxuT38S1t1M4"
      }
    },
    {
      "cell_type": "code",
      "source": [
        "#we can implement this model using gensim library.\n"
      ],
      "metadata": {
        "id": "H6LwY1omtI-0"
      },
      "execution_count": 12,
      "outputs": []
    },
    {
      "cell_type": "code",
      "source": [
        "!pip install -qU genism"
      ],
      "metadata": {
        "colab": {
          "base_uri": "https://localhost:8080/"
        },
        "id": "2uN-0L6kxkOn",
        "outputId": "68ac2b30-411e-4c38-df7f-f1d8c8638362"
      },
      "execution_count": 13,
      "outputs": [
        {
          "output_type": "stream",
          "name": "stdout",
          "text": [
            "\u001b[31mERROR: Could not find a version that satisfies the requirement genism (from versions: none)\u001b[0m\u001b[31m\n",
            "\u001b[0m\u001b[31mERROR: No matching distribution found for genism\u001b[0m\u001b[31m\n",
            "\u001b[0m"
          ]
        }
      ]
    },
    {
      "cell_type": "code",
      "source": [
        "from gensim.models.word2vec import Word2Vec"
      ],
      "metadata": {
        "id": "1KOs1I0vxpop"
      },
      "execution_count": 14,
      "outputs": []
    },
    {
      "cell_type": "code",
      "source": [
        "model=Word2Vec([text],\n",
        "               sg=1, #skip gram =1\n",
        "               vector_size=10,\n",
        "               min_count=0,\n",
        "               window=2,\n",
        "               seed=0\n",
        "               )"
      ],
      "metadata": {
        "id": "nOWtPahGyT20"
      },
      "execution_count": 15,
      "outputs": []
    },
    {
      "cell_type": "code",
      "source": [
        "print(f\"shape of W_embed : {model.wv.vectors.shape}\")"
      ],
      "metadata": {
        "colab": {
          "base_uri": "https://localhost:8080/"
        },
        "id": "oq1i-kp1zEAt",
        "outputId": "fa076801-e392-497f-fe29-56856ee13c79"
      },
      "execution_count": 16,
      "outputs": [
        {
          "output_type": "stream",
          "name": "stdout",
          "text": [
            "shape of W_embed : (70, 10)\n"
          ]
        }
      ]
    },
    {
      "cell_type": "code",
      "source": [
        "print(model)"
      ],
      "metadata": {
        "colab": {
          "base_uri": "https://localhost:8080/"
        },
        "id": "g7sQadrIzRVD",
        "outputId": "296e156b-d208-4935-9ef5-4b4cbebe614e"
      },
      "execution_count": 17,
      "outputs": [
        {
          "output_type": "stream",
          "name": "stdout",
          "text": [
            "Word2Vec<vocab=70, vector_size=10, alpha=0.025>\n"
          ]
        }
      ]
    },
    {
      "cell_type": "code",
      "source": [
        "## We train the model for 10 epochs.\n",
        "model.train([text],total_examples=model.corpus_count,epochs=10)"
      ],
      "metadata": {
        "colab": {
          "base_uri": "https://localhost:8080/"
        },
        "id": "m_2YeYBlzaNd",
        "outputId": "71946f50-e6b7-4489-cef2-c0dc321b96b9"
      },
      "execution_count": 22,
      "outputs": [
        {
          "output_type": "stream",
          "name": "stderr",
          "text": [
            "WARNING:gensim.models.word2vec:Effective 'alpha' higher than previous training cycles\n"
          ]
        },
        {
          "output_type": "execute_result",
          "data": {
            "text/plain": [
              "(278, 830)"
            ]
          },
          "metadata": {},
          "execution_count": 22
        }
      ]
    },
    {
      "cell_type": "code",
      "source": [
        "print(\"Word embeddings\")\n",
        "print(model.wv[0])"
      ],
      "metadata": {
        "colab": {
          "base_uri": "https://localhost:8080/"
        },
        "id": "f1-0UzFkz5JU",
        "outputId": "db6d27a3-7094-488b-f3f6-5219547a6354"
      },
      "execution_count": 23,
      "outputs": [
        {
          "output_type": "stream",
          "name": "stdout",
          "text": [
            "Word embeddings\n",
            "[ 0.06910036  0.02826009  0.00365436 -0.04655457 -0.03654416 -0.08919194\n",
            " -0.08470739 -0.09637518 -0.06494602  0.06502254]\n"
          ]
        }
      ]
    },
    {
      "cell_type": "code",
      "source": [
        "model.wv.most_similar('landscapes', topn=10)"
      ],
      "metadata": {
        "colab": {
          "base_uri": "https://localhost:8080/"
        },
        "id": "9wrMUf220WII",
        "outputId": "ddaaea69-dcdd-4f49-ff35-9556aac5ec53"
      },
      "execution_count": 26,
      "outputs": [
        {
          "output_type": "execute_result",
          "data": {
            "text/plain": [
              "[('meadows,', 0.6518340706825256),\n",
              " ('this', 0.6309268474578857),\n",
              " ('mountains', 0.5691123604774475),\n",
              " ('through', 0.5659627914428711),\n",
              " ('warmth,', 0.5342003107070923),\n",
              " ('in', 0.45626121759414673),\n",
              " ('us', 0.4455518424510956),\n",
              " ('nights', 0.4314277768135071),\n",
              " ('existence.', 0.38293105363845825),\n",
              " ('beauty', 0.3573189079761505)]"
            ]
          },
          "metadata": {},
          "execution_count": 26
        }
      ]
    },
    {
      "cell_type": "code",
      "source": [
        "vector = model.wv['mountains']  # get numpy vector of a word"
      ],
      "metadata": {
        "id": "UcF50j8v0y7S"
      },
      "execution_count": 29,
      "outputs": []
    },
    {
      "cell_type": "code",
      "source": [
        "vector"
      ],
      "metadata": {
        "colab": {
          "base_uri": "https://localhost:8080/"
        },
        "id": "v2GH-pWj07El",
        "outputId": "97e51c19-e2c4-45fe-bae4-50cb55d1b5cc"
      },
      "execution_count": 30,
      "outputs": [
        {
          "output_type": "execute_result",
          "data": {
            "text/plain": [
              "array([ 0.06698663,  0.05173635, -0.01819627, -0.00056968, -0.0153881 ,\n",
              "        0.00637346, -0.05383362,  0.05713658, -0.08436236, -0.01690745],\n",
              "      dtype=float32)"
            ]
          },
          "metadata": {},
          "execution_count": 30
        }
      ]
    },
    {
      "cell_type": "code",
      "source": [],
      "metadata": {
        "id": "3GtAdBsU28mP"
      },
      "execution_count": null,
      "outputs": []
    }
  ]
}