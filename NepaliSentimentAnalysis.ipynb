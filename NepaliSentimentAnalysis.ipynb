{
  "nbformat": 4,
  "nbformat_minor": 0,
  "metadata": {
    "colab": {
      "provenance": [],
      "authorship_tag": "ABX9TyN0Snwo5gGU4uk3oGGd5q2p",
      "include_colab_link": true
    },
    "kernelspec": {
      "name": "python3",
      "display_name": "Python 3"
    },
    "language_info": {
      "name": "python"
    }
  },
  "cells": [
    {
      "cell_type": "markdown",
      "metadata": {
        "id": "view-in-github",
        "colab_type": "text"
      },
      "source": [
        "<a href=\"https://colab.research.google.com/github/shahchhatru/AI_colab_notebooks/blob/main/NepaliSentimentAnalysis.ipynb\" target=\"_parent\"><img src=\"https://colab.research.google.com/assets/colab-badge.svg\" alt=\"Open In Colab\"/></a>"
      ]
    },
    {
      "cell_type": "code",
      "source": [
        "from google.colab import drive\n",
        "drive.mount('/content/gdrive')"
      ],
      "metadata": {
        "colab": {
          "base_uri": "https://localhost:8080/"
        },
        "id": "I8gwoM1W-TPx",
        "outputId": "02c22321-fe14-4e14-9e28-3339dc69d90d"
      },
      "execution_count": 2,
      "outputs": [
        {
          "output_type": "stream",
          "name": "stdout",
          "text": [
            "Mounted at /content/gdrive\n"
          ]
        }
      ]
    },
    {
      "cell_type": "code",
      "source": [
        "import os"
      ],
      "metadata": {
        "id": "bbLfalE7-ndS"
      },
      "execution_count": 3,
      "outputs": []
    },
    {
      "cell_type": "code",
      "source": [
        "os.listdir('gdrive/MyDrive/NepaliW2Vec/')"
      ],
      "metadata": {
        "colab": {
          "base_uri": "https://localhost:8080/"
        },
        "id": "6DMkw-4V-r8i",
        "outputId": "2efffcc5-4163-42bd-c354-93ab278bdb6d"
      },
      "execution_count": 7,
      "outputs": [
        {
          "output_type": "execute_result",
          "data": {
            "text/plain": [
              "['nepaliW2V_5Million.model']"
            ]
          },
          "metadata": {},
          "execution_count": 7
        }
      ]
    },
    {
      "cell_type": "code",
      "source": [
        "os.chdir('gdrive/MyDrive/NepaliW2Vec/')"
      ],
      "metadata": {
        "id": "vwpxvBXz-qmM"
      },
      "execution_count": 8,
      "outputs": []
    },
    {
      "cell_type": "code",
      "source": [
        "os.listdir()"
      ],
      "metadata": {
        "colab": {
          "base_uri": "https://localhost:8080/"
        },
        "id": "cDUoHMiN_1Ny",
        "outputId": "9b2ca420-73cc-47aa-a158-98ecb54d587f"
      },
      "execution_count": 10,
      "outputs": [
        {
          "output_type": "execute_result",
          "data": {
            "text/plain": [
              "['nepaliW2V_5Million.model',\n",
              " 'nepaliW2V_5Million.model.syn1neg.npy',\n",
              " 'nepaliW2V_5Million.model.wv.vectors.npy']"
            ]
          },
          "metadata": {},
          "execution_count": 10
        }
      ]
    },
    {
      "cell_type": "code",
      "execution_count": 11,
      "metadata": {
        "id": "6FT2wMQF9h3M"
      },
      "outputs": [],
      "source": [
        "from gensim.models import Word2Vec\n",
        "model_W2V = Word2Vec.load(\"nepaliW2V_5Million.model\")"
      ]
    },
    {
      "cell_type": "code",
      "source": [
        "model_W2V.wv.most_similar('ठमेल')"
      ],
      "metadata": {
        "colab": {
          "base_uri": "https://localhost:8080/"
        },
        "id": "y9bLyWZAAAsB",
        "outputId": "085518b1-ec3f-4a36-e15e-496e42c033b5"
      },
      "execution_count": 13,
      "outputs": [
        {
          "output_type": "execute_result",
          "data": {
            "text/plain": [
              "[('लेकसाइड', 0.7085685729980469),\n",
              " ('जमल', 0.7031379342079163),\n",
              " ('बानेश्वर', 0.6600849628448486),\n",
              " ('सामाखुसी', 0.6546829342842102),\n",
              " ('न्युरोड', 0.6507934927940369),\n",
              " ('गोंगबु', 0.6498370170593262),\n",
              " ('बागबजार', 0.6398636102676392),\n",
              " ('कलं', 0.6395446062088013),\n",
              " ('हाइसन्चो\\n', 0.6294294595718384),\n",
              " ('घण्टाघर', 0.6282877922058105)]"
            ]
          },
          "metadata": {},
          "execution_count": 13
        }
      ]
    },
    {
      "cell_type": "code",
      "source": [],
      "metadata": {
        "id": "TXP3uPz8AMwf"
      },
      "execution_count": null,
      "outputs": []
    }
  ]
}